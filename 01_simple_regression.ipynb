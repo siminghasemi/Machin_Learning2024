{
  "nbformat": 4,
  "nbformat_minor": 0,
  "metadata": {
    "colab": {
      "provenance": [],
      "authorship_tag": "ABX9TyPca6pdlj/hZoJ11/ZU888j",
      "include_colab_link": true
    },
    "kernelspec": {
      "name": "python3",
      "display_name": "Python 3"
    },
    "language_info": {
      "name": "python"
    }
  },
  "cells": [
    {
      "cell_type": "markdown",
      "metadata": {
        "id": "view-in-github",
        "colab_type": "text"
      },
      "source": [
        "<a href=\"https://colab.research.google.com/github/siminghasemi/Machin_Learning_2024/blob/main/01_simple_regression.ipynb\" target=\"_parent\"><img src=\"https://colab.research.google.com/assets/colab-badge.svg\" alt=\"Open In Colab\"/></a>"
      ]
    },
    {
      "cell_type": "code",
      "execution_count": null,
      "metadata": {
        "colab": {
          "base_uri": "https://localhost:8080/"
        },
        "id": "VQxlzwiY7cmo",
        "outputId": "2bb1174a-7dd2-4978-da6f-67f16c6964c1"
      },
      "outputs": [
        {
          "output_type": "stream",
          "name": "stdout",
          "text": [
            "[5, 3, -1, 2, 6] [14, 6, -5.5, 3.5, 18]\n"
          ]
        }
      ],
      "source": [
        "x = [5, 3 , -1, 2, 6]\n",
        "y = [14, 6, -5.5, 3.5, 18]\n",
        "print (x, y)"
      ]
    },
    {
      "cell_type": "code",
      "source": [
        "X, Y , XiYi, Xi2= 0, 0 , 0, 0\n",
        "n = len(x)\n",
        "for i in range(n):\n",
        "  X += x[i]\n",
        "  Y += y[i]\n",
        "  XiYi += x[i] * y[i]\n",
        "  Xi2 += x[i] ** 2\n",
        "print(n, X, Y, XiYi, Xi2)"
      ],
      "metadata": {
        "colab": {
          "base_uri": "https://localhost:8080/"
        },
        "id": "c_4tEN3D77Ei",
        "outputId": "b3e6abdc-0dd8-4800-ba8a-29ba59fb16bc"
      },
      "execution_count": null,
      "outputs": [
        {
          "output_type": "stream",
          "name": "stdout",
          "text": [
            "5 15 36.0 208.5 75\n"
          ]
        }
      ]
    },
    {
      "cell_type": "code",
      "source": [
        "w1 = (n * XiYi - X * Y) / (n * Xi2 - X**2)\n",
        "print (w1)"
      ],
      "metadata": {
        "colab": {
          "base_uri": "https://localhost:8080/"
        },
        "id": "eRGutabK93qI",
        "outputId": "dcd3a0db-bbed-4131-983c-fd9ac4771a92"
      },
      "execution_count": null,
      "outputs": [
        {
          "output_type": "stream",
          "name": "stdout",
          "text": [
            "3.35\n"
          ]
        }
      ]
    },
    {
      "cell_type": "code",
      "source": [
        "w0 = (Y - w1 * X) / n\n",
        "print (w0)"
      ],
      "metadata": {
        "colab": {
          "base_uri": "https://localhost:8080/"
        },
        "id": "4MJ0G694_YM9",
        "outputId": "cdc4cc47-5d5d-4f35-e031-c288460a060e"
      },
      "execution_count": null,
      "outputs": [
        {
          "output_type": "stream",
          "name": "stdout",
          "text": [
            "-2.85\n"
          ]
        }
      ]
    }
  ]
}